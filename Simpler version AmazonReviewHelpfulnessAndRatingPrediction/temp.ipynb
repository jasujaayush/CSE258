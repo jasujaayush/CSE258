import numpy
import urllib3
import scipy.optimize
import random

def parseData(fname):
  for l in urllib3.urlopen(fname):
    yield eval(l)

print "Reading data..."
data = list(parseData("train.json"))
print "done"